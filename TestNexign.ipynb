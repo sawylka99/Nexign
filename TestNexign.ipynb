{
 "cells": [
  {
   "cell_type": "code",
   "execution_count": 1,
   "id": "6ed9f016-b21b-4ce0-9237-dc753da7c23c",
   "metadata": {},
   "outputs": [],
   "source": [
    "import numpy as np\n",
    "import pandas as pd\n",
    "import matplotlib as mpl\n",
    "import matplotlib.pyplot as plt\n",
    "import seaborn as sns\n",
    "import warnings; warnings.filterwarnings(action='once')\n",
    "import datetime as dt\n",
    "\n",
    "\n",
    "from sklearn.linear_model import LinearRegression\n",
    "from sklearn.neighbors import KNeighborsClassifier\n",
    "from sklearn import tree\n",
    "from sklearn import preprocessing"
   ]
  },
  {
   "cell_type": "markdown",
   "id": "b3195716-a416-41bc-8b5d-4775e49c3b65",
   "metadata": {},
   "source": [
    "Подгружаем наши данные "
   ]
  },
  {
   "cell_type": "code",
   "execution_count": 2,
   "id": "68a817ce-5dde-49ac-ad98-989b7be7a8fb",
   "metadata": {},
   "outputs": [],
   "source": [
    "df = pd.read_csv('dataframe.csv', delimiter=';')"
   ]
  },
  {
   "cell_type": "markdown",
   "id": "fee49f96-3023-47d0-82b3-3b3eeb4a9220",
   "metadata": {},
   "source": [
    "Посмотрим первые и последние 10 строчек наших данных"
   ]
  },
  {
   "cell_type": "code",
   "execution_count": 3,
   "id": "3c862d98-2b9a-46e1-addb-530e4a6c3485",
   "metadata": {},
   "outputs": [
    {
     "data": {
      "text/html": [
       "<div>\n",
       "<style scoped>\n",
       "    .dataframe tbody tr th:only-of-type {\n",
       "        vertical-align: middle;\n",
       "    }\n",
       "\n",
       "    .dataframe tbody tr th {\n",
       "        vertical-align: top;\n",
       "    }\n",
       "\n",
       "    .dataframe thead th {\n",
       "        text-align: right;\n",
       "    }\n",
       "</style>\n",
       "<table border=\"1\" class=\"dataframe\">\n",
       "  <thead>\n",
       "    <tr style=\"text-align: right;\">\n",
       "      <th></th>\n",
       "      <th>Time</th>\n",
       "      <th>Quantity</th>\n",
       "    </tr>\n",
       "  </thead>\n",
       "  <tbody>\n",
       "    <tr>\n",
       "      <th>0</th>\n",
       "      <td>27.07.2022 15:15</td>\n",
       "      <td>718.0</td>\n",
       "    </tr>\n",
       "    <tr>\n",
       "      <th>1</th>\n",
       "      <td>27.07.2022 15:30</td>\n",
       "      <td>665.0</td>\n",
       "    </tr>\n",
       "    <tr>\n",
       "      <th>2</th>\n",
       "      <td>27.07.2022 15:45</td>\n",
       "      <td>637.0</td>\n",
       "    </tr>\n",
       "    <tr>\n",
       "      <th>3</th>\n",
       "      <td>27.07.2022 16:00</td>\n",
       "      <td>661.0</td>\n",
       "    </tr>\n",
       "    <tr>\n",
       "      <th>4</th>\n",
       "      <td>27.07.2022 16:15</td>\n",
       "      <td>668.0</td>\n",
       "    </tr>\n",
       "    <tr>\n",
       "      <th>5</th>\n",
       "      <td>27.07.2022 16:30</td>\n",
       "      <td>687.0</td>\n",
       "    </tr>\n",
       "    <tr>\n",
       "      <th>6</th>\n",
       "      <td>27.07.2022 16:45</td>\n",
       "      <td>692.0</td>\n",
       "    </tr>\n",
       "    <tr>\n",
       "      <th>7</th>\n",
       "      <td>27.07.2022 17:00</td>\n",
       "      <td>640.0</td>\n",
       "    </tr>\n",
       "    <tr>\n",
       "      <th>8</th>\n",
       "      <td>27.07.2022 17:15</td>\n",
       "      <td>680.0</td>\n",
       "    </tr>\n",
       "    <tr>\n",
       "      <th>9</th>\n",
       "      <td>27.07.2022 17:30</td>\n",
       "      <td>678.0</td>\n",
       "    </tr>\n",
       "  </tbody>\n",
       "</table>\n",
       "</div>"
      ],
      "text/plain": [
       "               Time  Quantity\n",
       "0  27.07.2022 15:15     718.0\n",
       "1  27.07.2022 15:30     665.0\n",
       "2  27.07.2022 15:45     637.0\n",
       "3  27.07.2022 16:00     661.0\n",
       "4  27.07.2022 16:15     668.0\n",
       "5  27.07.2022 16:30     687.0\n",
       "6  27.07.2022 16:45     692.0\n",
       "7  27.07.2022 17:00     640.0\n",
       "8  27.07.2022 17:15     680.0\n",
       "9  27.07.2022 17:30     678.0"
      ]
     },
     "execution_count": 3,
     "metadata": {},
     "output_type": "execute_result"
    }
   ],
   "source": [
    "df.head(10)"
   ]
  },
  {
   "cell_type": "code",
   "execution_count": 4,
   "id": "7c44ef53-eedf-4951-9b9f-90360d0d83f6",
   "metadata": {},
   "outputs": [
    {
     "data": {
      "text/html": [
       "<div>\n",
       "<style scoped>\n",
       "    .dataframe tbody tr th:only-of-type {\n",
       "        vertical-align: middle;\n",
       "    }\n",
       "\n",
       "    .dataframe tbody tr th {\n",
       "        vertical-align: top;\n",
       "    }\n",
       "\n",
       "    .dataframe thead th {\n",
       "        text-align: right;\n",
       "    }\n",
       "</style>\n",
       "<table border=\"1\" class=\"dataframe\">\n",
       "  <thead>\n",
       "    <tr style=\"text-align: right;\">\n",
       "      <th></th>\n",
       "      <th>Time</th>\n",
       "      <th>Quantity</th>\n",
       "    </tr>\n",
       "  </thead>\n",
       "  <tbody>\n",
       "    <tr>\n",
       "      <th>2871</th>\n",
       "      <td>26.08.2022 13:00</td>\n",
       "      <td>772.0</td>\n",
       "    </tr>\n",
       "    <tr>\n",
       "      <th>2872</th>\n",
       "      <td>26.08.2022 13:15</td>\n",
       "      <td>746.0</td>\n",
       "    </tr>\n",
       "    <tr>\n",
       "      <th>2873</th>\n",
       "      <td>26.08.2022 13:30</td>\n",
       "      <td>782.0</td>\n",
       "    </tr>\n",
       "    <tr>\n",
       "      <th>2874</th>\n",
       "      <td>26.08.2022 13:45</td>\n",
       "      <td>797.0</td>\n",
       "    </tr>\n",
       "    <tr>\n",
       "      <th>2875</th>\n",
       "      <td>26.08.2022 14:00</td>\n",
       "      <td>829.0</td>\n",
       "    </tr>\n",
       "    <tr>\n",
       "      <th>2876</th>\n",
       "      <td>26.08.2022 14:15</td>\n",
       "      <td>793.0</td>\n",
       "    </tr>\n",
       "    <tr>\n",
       "      <th>2877</th>\n",
       "      <td>26.08.2022 14:30</td>\n",
       "      <td>706.0</td>\n",
       "    </tr>\n",
       "    <tr>\n",
       "      <th>2878</th>\n",
       "      <td>26.08.2022 14:45</td>\n",
       "      <td>556.0</td>\n",
       "    </tr>\n",
       "    <tr>\n",
       "      <th>2879</th>\n",
       "      <td>26.08.2022 15:00</td>\n",
       "      <td>582.0</td>\n",
       "    </tr>\n",
       "    <tr>\n",
       "      <th>2880</th>\n",
       "      <td>26.08.2022 15:15</td>\n",
       "      <td>771.0</td>\n",
       "    </tr>\n",
       "  </tbody>\n",
       "</table>\n",
       "</div>"
      ],
      "text/plain": [
       "                  Time  Quantity\n",
       "2871  26.08.2022 13:00     772.0\n",
       "2872  26.08.2022 13:15     746.0\n",
       "2873  26.08.2022 13:30     782.0\n",
       "2874  26.08.2022 13:45     797.0\n",
       "2875  26.08.2022 14:00     829.0\n",
       "2876  26.08.2022 14:15     793.0\n",
       "2877  26.08.2022 14:30     706.0\n",
       "2878  26.08.2022 14:45     556.0\n",
       "2879  26.08.2022 15:00     582.0\n",
       "2880  26.08.2022 15:15     771.0"
      ]
     },
     "execution_count": 4,
     "metadata": {},
     "output_type": "execute_result"
    }
   ],
   "source": [
    "df.tail(10)"
   ]
  },
  {
   "cell_type": "markdown",
   "id": "b34b440d-f996-459d-8f1e-2c166e3df7f8",
   "metadata": {},
   "source": [
    "Выведем статистику наших данных"
   ]
  },
  {
   "cell_type": "code",
   "execution_count": 5,
   "id": "303b292e-4eb6-469c-9ed0-0e80b0b9523e",
   "metadata": {},
   "outputs": [
    {
     "data": {
      "text/html": [
       "<div>\n",
       "<style scoped>\n",
       "    .dataframe tbody tr th:only-of-type {\n",
       "        vertical-align: middle;\n",
       "    }\n",
       "\n",
       "    .dataframe tbody tr th {\n",
       "        vertical-align: top;\n",
       "    }\n",
       "\n",
       "    .dataframe thead th {\n",
       "        text-align: right;\n",
       "    }\n",
       "</style>\n",
       "<table border=\"1\" class=\"dataframe\">\n",
       "  <thead>\n",
       "    <tr style=\"text-align: right;\">\n",
       "      <th></th>\n",
       "      <th>Quantity</th>\n",
       "    </tr>\n",
       "  </thead>\n",
       "  <tbody>\n",
       "    <tr>\n",
       "      <th>count</th>\n",
       "      <td>2718.000000</td>\n",
       "    </tr>\n",
       "    <tr>\n",
       "      <th>mean</th>\n",
       "      <td>368.701619</td>\n",
       "    </tr>\n",
       "    <tr>\n",
       "      <th>std</th>\n",
       "      <td>295.226746</td>\n",
       "    </tr>\n",
       "    <tr>\n",
       "      <th>min</th>\n",
       "      <td>0.000000</td>\n",
       "    </tr>\n",
       "    <tr>\n",
       "      <th>25%</th>\n",
       "      <td>61.000000</td>\n",
       "    </tr>\n",
       "    <tr>\n",
       "      <th>50%</th>\n",
       "      <td>348.000000</td>\n",
       "    </tr>\n",
       "    <tr>\n",
       "      <th>75%</th>\n",
       "      <td>668.000000</td>\n",
       "    </tr>\n",
       "    <tr>\n",
       "      <th>max</th>\n",
       "      <td>982.000000</td>\n",
       "    </tr>\n",
       "  </tbody>\n",
       "</table>\n",
       "</div>"
      ],
      "text/plain": [
       "          Quantity\n",
       "count  2718.000000\n",
       "mean    368.701619\n",
       "std     295.226746\n",
       "min       0.000000\n",
       "25%      61.000000\n",
       "50%     348.000000\n",
       "75%     668.000000\n",
       "max     982.000000"
      ]
     },
     "execution_count": 5,
     "metadata": {},
     "output_type": "execute_result"
    }
   ],
   "source": [
    "df.describe()\n"
   ]
  },
  {
   "cell_type": "markdown",
   "id": "7d184843-d165-480e-9b65-32de39aa52fd",
   "metadata": {},
   "source": [
    "И посмотрим на типы данных которые хранятся в таблице"
   ]
  },
  {
   "cell_type": "code",
   "execution_count": 6,
   "id": "303429cb-ca25-4adc-8c5b-46664f5be1cd",
   "metadata": {},
   "outputs": [
    {
     "data": {
      "text/plain": [
       "Time         object\n",
       "Quantity    float64\n",
       "dtype: object"
      ]
     },
     "execution_count": 6,
     "metadata": {},
     "output_type": "execute_result"
    }
   ],
   "source": [
    "df.dtypes"
   ]
  },
  {
   "cell_type": "markdown",
   "id": "62fbe751-0fc0-4430-9390-11e33e632649",
   "metadata": {},
   "source": [
    "Размер нашей таблицы составляет 2881 строку и 2 слолбца"
   ]
  },
  {
   "cell_type": "code",
   "execution_count": 7,
   "id": "c10f1011-b6e2-4561-8a05-7ca6592d0403",
   "metadata": {},
   "outputs": [
    {
     "data": {
      "text/plain": [
       "(2881, 2)"
      ]
     },
     "execution_count": 7,
     "metadata": {},
     "output_type": "execute_result"
    }
   ],
   "source": [
    "df.shape"
   ]
  },
  {
   "cell_type": "markdown",
   "id": "a7f56cb3-3a9a-4862-b32b-91944a52d3d2",
   "metadata": {},
   "source": [
    "Проверим какое количество строчек без значения присутствует в таблице, и увидим, что 163 строчки не имеют данные"
   ]
  },
  {
   "cell_type": "code",
   "execution_count": 8,
   "id": "6f818824-4c0d-40de-9ba2-1ac6604ab943",
   "metadata": {},
   "outputs": [
    {
     "data": {
      "text/plain": [
       "Time          0\n",
       "Quantity    163\n",
       "dtype: int64"
      ]
     },
     "execution_count": 8,
     "metadata": {},
     "output_type": "execute_result"
    }
   ],
   "source": [
    "df.isnull().sum()"
   ]
  },
  {
   "cell_type": "markdown",
   "id": "9f43d2c4-c9cd-4cdd-ba15-b6b621d7e0a3",
   "metadata": {},
   "source": [
    "Возьмем первое значение времени и рассчитаем смещение, для отбора полных 5 дней"
   ]
  },
  {
   "cell_type": "code",
   "execution_count": 9,
   "id": "9880b37e-0242-4d51-82cc-fe811ac0ae0e",
   "metadata": {},
   "outputs": [
    {
     "data": {
      "text/plain": [
       "'15:15'"
      ]
     },
     "execution_count": 9,
     "metadata": {},
     "output_type": "execute_result"
    }
   ],
   "source": [
    "df.Time[0][-5:]"
   ]
  },
  {
   "cell_type": "code",
   "execution_count": 10,
   "id": "e04ba04e-1562-4d15-892d-a3fc6287a466",
   "metadata": {},
   "outputs": [],
   "source": [
    "startDayTime = int((24*60/15) - (15*60+15)/15)\n",
    "endFiveDay = int((24*60/15*5) + startDayTime)\n"
   ]
  },
  {
   "cell_type": "code",
   "execution_count": 11,
   "id": "ecf4fba5-e2c6-46a6-9ba6-2905bfadcef7",
   "metadata": {},
   "outputs": [
    {
     "data": {
      "text/html": [
       "<div>\n",
       "<style scoped>\n",
       "    .dataframe tbody tr th:only-of-type {\n",
       "        vertical-align: middle;\n",
       "    }\n",
       "\n",
       "    .dataframe tbody tr th {\n",
       "        vertical-align: top;\n",
       "    }\n",
       "\n",
       "    .dataframe thead th {\n",
       "        text-align: right;\n",
       "    }\n",
       "</style>\n",
       "<table border=\"1\" class=\"dataframe\">\n",
       "  <thead>\n",
       "    <tr style=\"text-align: right;\">\n",
       "      <th></th>\n",
       "      <th>Time</th>\n",
       "      <th>Quantity</th>\n",
       "    </tr>\n",
       "  </thead>\n",
       "  <tbody>\n",
       "    <tr>\n",
       "      <th>0</th>\n",
       "      <td>28.07.2022 0:00</td>\n",
       "      <td>NaN</td>\n",
       "    </tr>\n",
       "    <tr>\n",
       "      <th>1</th>\n",
       "      <td>28.07.2022 0:15</td>\n",
       "      <td>NaN</td>\n",
       "    </tr>\n",
       "    <tr>\n",
       "      <th>2</th>\n",
       "      <td>28.07.2022 0:30</td>\n",
       "      <td>NaN</td>\n",
       "    </tr>\n",
       "    <tr>\n",
       "      <th>3</th>\n",
       "      <td>28.07.2022 0:45</td>\n",
       "      <td>NaN</td>\n",
       "    </tr>\n",
       "    <tr>\n",
       "      <th>4</th>\n",
       "      <td>28.07.2022 1:00</td>\n",
       "      <td>NaN</td>\n",
       "    </tr>\n",
       "    <tr>\n",
       "      <th>...</th>\n",
       "      <td>...</td>\n",
       "      <td>...</td>\n",
       "    </tr>\n",
       "    <tr>\n",
       "      <th>475</th>\n",
       "      <td>01.08.2022 22:45</td>\n",
       "      <td>8.0</td>\n",
       "    </tr>\n",
       "    <tr>\n",
       "      <th>476</th>\n",
       "      <td>01.08.2022 23:00</td>\n",
       "      <td>6.0</td>\n",
       "    </tr>\n",
       "    <tr>\n",
       "      <th>477</th>\n",
       "      <td>01.08.2022 23:15</td>\n",
       "      <td>8.0</td>\n",
       "    </tr>\n",
       "    <tr>\n",
       "      <th>478</th>\n",
       "      <td>01.08.2022 23:30</td>\n",
       "      <td>7.0</td>\n",
       "    </tr>\n",
       "    <tr>\n",
       "      <th>479</th>\n",
       "      <td>01.08.2022 23:45</td>\n",
       "      <td>1.0</td>\n",
       "    </tr>\n",
       "  </tbody>\n",
       "</table>\n",
       "<p>480 rows × 2 columns</p>\n",
       "</div>"
      ],
      "text/plain": [
       "                 Time  Quantity\n",
       "0     28.07.2022 0:00       NaN\n",
       "1     28.07.2022 0:15       NaN\n",
       "2     28.07.2022 0:30       NaN\n",
       "3     28.07.2022 0:45       NaN\n",
       "4     28.07.2022 1:00       NaN\n",
       "..                ...       ...\n",
       "475  01.08.2022 22:45       8.0\n",
       "476  01.08.2022 23:00       6.0\n",
       "477  01.08.2022 23:15       8.0\n",
       "478  01.08.2022 23:30       7.0\n",
       "479  01.08.2022 23:45       1.0\n",
       "\n",
       "[480 rows x 2 columns]"
      ]
     },
     "execution_count": 11,
     "metadata": {},
     "output_type": "execute_result"
    }
   ],
   "source": [
    "dfHead = df[startDayTime:endFiveDay].reset_index(drop=True)\n",
    "dfHead"
   ]
  },
  {
   "cell_type": "code",
   "execution_count": 12,
   "id": "7a34c260-4eaf-49bb-bc16-41c9de4e99e6",
   "metadata": {},
   "outputs": [],
   "source": [
    "quantityMin = int(df.Quantity.min())\n",
    "quantityMax = int(df.Quantity.max())"
   ]
  },
  {
   "cell_type": "code",
   "execution_count": 13,
   "id": "376b20e9-960f-4cb0-a062-d223e215f099",
   "metadata": {},
   "outputs": [
    {
     "data": {
      "image/png": "[encoded data removed]",
      "text/plain": [
       "<Figure size 1600x1000 with 1 Axes>"
      ]
     },
     "metadata": {
      "needs_background": "light"
     },
     "output_type": "display_data"
    }
   ],
   "source": [
    "# Draw Plot\n",
    "plt.figure(figsize=(16,10), dpi= 100)\n",
    "plt.plot('Time', 'Quantity', data=dfHead, color='tab:red')\n",
    "\n",
    "# Decoration\n",
    "plt.ylim(quantityMin, quantityMax)\n",
    "xtick_location = dfHead.index.tolist()[::5]\n",
    "xtick_labels = [x[-5:] for x in dfHead.Time.tolist()[::5]]\n",
    "plt.xticks(ticks=xtick_location, labels=xtick_labels, rotation=70, fontsize=8, horizontalalignment='center', alpha=.9)\n",
    "plt.yticks(fontsize=12, alpha=1)\n",
    "plt.title(\"5 Days\", fontsize=12)\n",
    "plt.grid(axis='both', alpha=1)\n",
    "\n",
    "# # Remove borders\n",
    "plt.gca().spines[\"top\"].set_alpha(0.0)    \n",
    "plt.gca().spines[\"bottom\"].set_alpha(1)\n",
    "plt.gca().spines[\"right\"].set_alpha(0.0)    \n",
    "plt.gca().spines[\"left\"].set_alpha(1)   \n",
    "plt.show()"
   ]
  },
  {
   "cell_type": "code",
   "execution_count": 14,
   "id": "70e9e513-e759-4b4b-baa6-5e066a531bd6",
   "metadata": {},
   "outputs": [],
   "source": [
    "dfNan = df[df.isnull().any(1)] # Сохраним данные которые имеют пропуски"
   ]
  },
  {
   "cell_type": "markdown",
   "id": "32e1f54b-6818-444f-b025-b1e00a06b9a9",
   "metadata": {},
   "source": [
    "Изобразим на гисторграмме зависимости кол-ва пропусков от времени"
   ]
  },
  {
   "cell_type": "code",
   "execution_count": 15,
   "id": "a0719cfa-0e78-4223-920e-a695b9b70754",
   "metadata": {},
   "outputs": [
    {
     "data": {
      "text/plain": [
       "(array([43., 16., 18., 23.,  2.,  4.,  3.,  2., 10., 42.]),\n",
       " array([ 0. ,  1.3,  2.6,  3.9,  5.2,  6.5,  7.8,  9.1, 10.4, 11.7, 13. ]),\n",
       " <BarContainer object of 10 artists>)"
      ]
     },
     "execution_count": 15,
     "metadata": {},
     "output_type": "execute_result"
    },
    {
     "data": {
      "image/png": "[encoded data removed]",
      "text/plain": [
       "<Figure size 432x288 with 1 Axes>"
      ]
     },
     "metadata": {
      "needs_background": "light"
     },
     "output_type": "display_data"
    }
   ],
   "source": [
    "histNanTime =[x[-5:] for x in dfNan.Time.tolist()[::]]\n",
    "histNanTime.sort()\n",
    "plt.xticks(rotation=70, fontsize=8, horizontalalignment='center', alpha=.9)\n",
    "plt.hist(histNanTime, alpha=0.75)"
   ]
  },
  {
   "cell_type": "code",
   "execution_count": 16,
   "id": "0bdaa895-112d-4521-8022-8d8283dcfee1",
   "metadata": {},
   "outputs": [
    {
     "data": {
      "text/plain": [
       "array([' 0:00', ' 0:15', ' 0:30', ' 0:45', ' 1:00', ' 1:15', ' 1:30',\n",
       "       ' 1:45', ' 2:00', ' 3:45', '23:00', '23:15', '23:30', '23:45'],\n",
       "      dtype='<U5')"
      ]
     },
     "execution_count": 16,
     "metadata": {},
     "output_type": "execute_result"
    }
   ],
   "source": [
    "uniqueNanTime = np.unique(histNanTime)# Сохраним уникальные значения неизвестного времени\n",
    "uniqueNanTime"
   ]
  },
  {
   "cell_type": "markdown",
   "id": "b3b9dfd8-ec81-425c-8d66-b3dbdeab6886",
   "metadata": {},
   "source": [
    "\n",
    "Сохраним исходный датафрейм, избавимся от даты для вычисления среднего значения пропусков"
   ]
  },
  {
   "cell_type": "code",
   "execution_count": 17,
   "id": "e1a3603c-abc8-45af-aa63-d7168796c83c",
   "metadata": {},
   "outputs": [
    {
     "data": {
      "text/html": [
       "<div>\n",
       "<style scoped>\n",
       "    .dataframe tbody tr th:only-of-type {\n",
       "        vertical-align: middle;\n",
       "    }\n",
       "\n",
       "    .dataframe tbody tr th {\n",
       "        vertical-align: top;\n",
       "    }\n",
       "\n",
       "    .dataframe thead th {\n",
       "        text-align: right;\n",
       "    }\n",
       "</style>\n",
       "<table border=\"1\" class=\"dataframe\">\n",
       "  <thead>\n",
       "    <tr style=\"text-align: right;\">\n",
       "      <th></th>\n",
       "      <th>Time</th>\n",
       "      <th>Quantity</th>\n",
       "    </tr>\n",
       "  </thead>\n",
       "  <tbody>\n",
       "    <tr>\n",
       "      <th>0</th>\n",
       "      <td>27.07.2022 15:15</td>\n",
       "      <td>718.0</td>\n",
       "    </tr>\n",
       "    <tr>\n",
       "      <th>1</th>\n",
       "      <td>27.07.2022 15:30</td>\n",
       "      <td>665.0</td>\n",
       "    </tr>\n",
       "    <tr>\n",
       "      <th>2</th>\n",
       "      <td>27.07.2022 15:45</td>\n",
       "      <td>637.0</td>\n",
       "    </tr>\n",
       "    <tr>\n",
       "      <th>3</th>\n",
       "      <td>27.07.2022 16:00</td>\n",
       "      <td>661.0</td>\n",
       "    </tr>\n",
       "    <tr>\n",
       "      <th>4</th>\n",
       "      <td>27.07.2022 16:15</td>\n",
       "      <td>668.0</td>\n",
       "    </tr>\n",
       "    <tr>\n",
       "      <th>...</th>\n",
       "      <td>...</td>\n",
       "      <td>...</td>\n",
       "    </tr>\n",
       "    <tr>\n",
       "      <th>2876</th>\n",
       "      <td>26.08.2022 14:15</td>\n",
       "      <td>793.0</td>\n",
       "    </tr>\n",
       "    <tr>\n",
       "      <th>2877</th>\n",
       "      <td>26.08.2022 14:30</td>\n",
       "      <td>706.0</td>\n",
       "    </tr>\n",
       "    <tr>\n",
       "      <th>2878</th>\n",
       "      <td>26.08.2022 14:45</td>\n",
       "      <td>556.0</td>\n",
       "    </tr>\n",
       "    <tr>\n",
       "      <th>2879</th>\n",
       "      <td>26.08.2022 15:00</td>\n",
       "      <td>582.0</td>\n",
       "    </tr>\n",
       "    <tr>\n",
       "      <th>2880</th>\n",
       "      <td>26.08.2022 15:15</td>\n",
       "      <td>771.0</td>\n",
       "    </tr>\n",
       "  </tbody>\n",
       "</table>\n",
       "<p>2881 rows × 2 columns</p>\n",
       "</div>"
      ],
      "text/plain": [
       "                  Time  Quantity\n",
       "0     27.07.2022 15:15     718.0\n",
       "1     27.07.2022 15:30     665.0\n",
       "2     27.07.2022 15:45     637.0\n",
       "3     27.07.2022 16:00     661.0\n",
       "4     27.07.2022 16:15     668.0\n",
       "...                ...       ...\n",
       "2876  26.08.2022 14:15     793.0\n",
       "2877  26.08.2022 14:30     706.0\n",
       "2878  26.08.2022 14:45     556.0\n",
       "2879  26.08.2022 15:00     582.0\n",
       "2880  26.08.2022 15:15     771.0\n",
       "\n",
       "[2881 rows x 2 columns]"
      ]
     },
     "execution_count": 17,
     "metadata": {},
     "output_type": "execute_result"
    }
   ],
   "source": [
    "dfTime= df.copy()\n",
    "dfTime"
   ]
  },
  {
   "cell_type": "markdown",
   "id": "9ca55398-6f19-4f1d-95df-a4ae404d365c",
   "metadata": {},
   "source": [
    "Уберем из датафрейма дату, для легкого получения выборки по времени"
   ]
  },
  {
   "cell_type": "code",
   "execution_count": 18,
   "id": "d916d792-6456-4811-963d-88461a338391",
   "metadata": {},
   "outputs": [],
   "source": [
    "dfTime.Time = [x[-5:] for x in dfTime.Time]"
   ]
  },
  {
   "cell_type": "code",
   "execution_count": 19,
   "id": "27332797-88df-461c-beb2-9370cadb87f2",
   "metadata": {},
   "outputs": [
    {
     "data": {
      "text/html": [
       "<div>\n",
       "<style scoped>\n",
       "    .dataframe tbody tr th:only-of-type {\n",
       "        vertical-align: middle;\n",
       "    }\n",
       "\n",
       "    .dataframe tbody tr th {\n",
       "        vertical-align: top;\n",
       "    }\n",
       "\n",
       "    .dataframe thead th {\n",
       "        text-align: right;\n",
       "    }\n",
       "</style>\n",
       "<table border=\"1\" class=\"dataframe\">\n",
       "  <thead>\n",
       "    <tr style=\"text-align: right;\">\n",
       "      <th></th>\n",
       "      <th>Time</th>\n",
       "      <th>Quantity</th>\n",
       "    </tr>\n",
       "  </thead>\n",
       "  <tbody>\n",
       "    <tr>\n",
       "      <th>0</th>\n",
       "      <td>15:15</td>\n",
       "      <td>718.0</td>\n",
       "    </tr>\n",
       "    <tr>\n",
       "      <th>1</th>\n",
       "      <td>15:30</td>\n",
       "      <td>665.0</td>\n",
       "    </tr>\n",
       "    <tr>\n",
       "      <th>2</th>\n",
       "      <td>15:45</td>\n",
       "      <td>637.0</td>\n",
       "    </tr>\n",
       "    <tr>\n",
       "      <th>3</th>\n",
       "      <td>16:00</td>\n",
       "      <td>661.0</td>\n",
       "    </tr>\n",
       "    <tr>\n",
       "      <th>4</th>\n",
       "      <td>16:15</td>\n",
       "      <td>668.0</td>\n",
       "    </tr>\n",
       "    <tr>\n",
       "      <th>...</th>\n",
       "      <td>...</td>\n",
       "      <td>...</td>\n",
       "    </tr>\n",
       "    <tr>\n",
       "      <th>2876</th>\n",
       "      <td>14:15</td>\n",
       "      <td>793.0</td>\n",
       "    </tr>\n",
       "    <tr>\n",
       "      <th>2877</th>\n",
       "      <td>14:30</td>\n",
       "      <td>706.0</td>\n",
       "    </tr>\n",
       "    <tr>\n",
       "      <th>2878</th>\n",
       "      <td>14:45</td>\n",
       "      <td>556.0</td>\n",
       "    </tr>\n",
       "    <tr>\n",
       "      <th>2879</th>\n",
       "      <td>15:00</td>\n",
       "      <td>582.0</td>\n",
       "    </tr>\n",
       "    <tr>\n",
       "      <th>2880</th>\n",
       "      <td>15:15</td>\n",
       "      <td>771.0</td>\n",
       "    </tr>\n",
       "  </tbody>\n",
       "</table>\n",
       "<p>2881 rows × 2 columns</p>\n",
       "</div>"
      ],
      "text/plain": [
       "       Time  Quantity\n",
       "0     15:15     718.0\n",
       "1     15:30     665.0\n",
       "2     15:45     637.0\n",
       "3     16:00     661.0\n",
       "4     16:15     668.0\n",
       "...     ...       ...\n",
       "2876  14:15     793.0\n",
       "2877  14:30     706.0\n",
       "2878  14:45     556.0\n",
       "2879  15:00     582.0\n",
       "2880  15:15     771.0\n",
       "\n",
       "[2881 rows x 2 columns]"
      ]
     },
     "execution_count": 19,
     "metadata": {},
     "output_type": "execute_result"
    }
   ],
   "source": [
    "dfTime"
   ]
  },
  {
   "cell_type": "markdown",
   "id": "d0ad9c4e-6204-487b-b854-cb9ad5526308",
   "metadata": {},
   "source": [
    "Отберем из датафрейма значения по списку пропусков, который мы получили выше"
   ]
  },
  {
   "cell_type": "code",
   "execution_count": 20,
   "id": "7052eecd-28e8-4fad-ba8b-14179351a74e",
   "metadata": {},
   "outputs": [
    {
     "data": {
      "text/html": [
       "<div>\n",
       "<style scoped>\n",
       "    .dataframe tbody tr th:only-of-type {\n",
       "        vertical-align: middle;\n",
       "    }\n",
       "\n",
       "    .dataframe tbody tr th {\n",
       "        vertical-align: top;\n",
       "    }\n",
       "\n",
       "    .dataframe thead th {\n",
       "        text-align: right;\n",
       "    }\n",
       "</style>\n",
       "<table border=\"1\" class=\"dataframe\">\n",
       "  <thead>\n",
       "    <tr style=\"text-align: right;\">\n",
       "      <th></th>\n",
       "      <th>Time</th>\n",
       "      <th>Quantity</th>\n",
       "    </tr>\n",
       "  </thead>\n",
       "  <tbody>\n",
       "    <tr>\n",
       "      <th>31</th>\n",
       "      <td>23:00</td>\n",
       "      <td>23.0</td>\n",
       "    </tr>\n",
       "    <tr>\n",
       "      <th>32</th>\n",
       "      <td>23:15</td>\n",
       "      <td>NaN</td>\n",
       "    </tr>\n",
       "    <tr>\n",
       "      <th>33</th>\n",
       "      <td>23:30</td>\n",
       "      <td>NaN</td>\n",
       "    </tr>\n",
       "    <tr>\n",
       "      <th>34</th>\n",
       "      <td>23:45</td>\n",
       "      <td>NaN</td>\n",
       "    </tr>\n",
       "    <tr>\n",
       "      <th>35</th>\n",
       "      <td>0:00</td>\n",
       "      <td>NaN</td>\n",
       "    </tr>\n",
       "    <tr>\n",
       "      <th>...</th>\n",
       "      <td>...</td>\n",
       "      <td>...</td>\n",
       "    </tr>\n",
       "    <tr>\n",
       "      <th>2824</th>\n",
       "      <td>1:15</td>\n",
       "      <td>2.0</td>\n",
       "    </tr>\n",
       "    <tr>\n",
       "      <th>2825</th>\n",
       "      <td>1:30</td>\n",
       "      <td>3.0</td>\n",
       "    </tr>\n",
       "    <tr>\n",
       "      <th>2826</th>\n",
       "      <td>1:45</td>\n",
       "      <td>3.0</td>\n",
       "    </tr>\n",
       "    <tr>\n",
       "      <th>2827</th>\n",
       "      <td>2:00</td>\n",
       "      <td>6.0</td>\n",
       "    </tr>\n",
       "    <tr>\n",
       "      <th>2834</th>\n",
       "      <td>3:45</td>\n",
       "      <td>31.0</td>\n",
       "    </tr>\n",
       "  </tbody>\n",
       "</table>\n",
       "<p>420 rows × 2 columns</p>\n",
       "</div>"
      ],
      "text/plain": [
       "       Time  Quantity\n",
       "31    23:00      23.0\n",
       "32    23:15       NaN\n",
       "33    23:30       NaN\n",
       "34    23:45       NaN\n",
       "35     0:00       NaN\n",
       "...     ...       ...\n",
       "2824   1:15       2.0\n",
       "2825   1:30       3.0\n",
       "2826   1:45       3.0\n",
       "2827   2:00       6.0\n",
       "2834   3:45      31.0\n",
       "\n",
       "[420 rows x 2 columns]"
      ]
     },
     "execution_count": 20,
     "metadata": {},
     "output_type": "execute_result"
    }
   ],
   "source": [
    "NanTimeDf  = dfTime.loc[dfTime.Time.isin(uniqueNanTime)]\n",
    "NanTimeDf"
   ]
  },
  {
   "cell_type": "markdown",
   "id": "c4c77699-b29c-4e2b-b1f2-267a2decf04a",
   "metadata": {},
   "source": [
    "Отчистим полученные данные от пропусков и сохраним только те, которые имеют значения"
   ]
  },
  {
   "cell_type": "code",
   "execution_count": 21,
   "id": "186aff97-ce0a-4089-b321-f4f57ef2dcf8",
   "metadata": {},
   "outputs": [
    {
     "data": {
      "text/html": [
       "<div>\n",
       "<style scoped>\n",
       "    .dataframe tbody tr th:only-of-type {\n",
       "        vertical-align: middle;\n",
       "    }\n",
       "\n",
       "    .dataframe tbody tr th {\n",
       "        vertical-align: top;\n",
       "    }\n",
       "\n",
       "    .dataframe thead th {\n",
       "        text-align: right;\n",
       "    }\n",
       "</style>\n",
       "<table border=\"1\" class=\"dataframe\">\n",
       "  <thead>\n",
       "    <tr style=\"text-align: right;\">\n",
       "      <th></th>\n",
       "      <th>Time</th>\n",
       "      <th>Quantity</th>\n",
       "    </tr>\n",
       "  </thead>\n",
       "  <tbody>\n",
       "    <tr>\n",
       "      <th>31</th>\n",
       "      <td>23:00</td>\n",
       "      <td>23.0</td>\n",
       "    </tr>\n",
       "    <tr>\n",
       "      <th>40</th>\n",
       "      <td>1:15</td>\n",
       "      <td>1.0</td>\n",
       "    </tr>\n",
       "    <tr>\n",
       "      <th>41</th>\n",
       "      <td>1:30</td>\n",
       "      <td>1.0</td>\n",
       "    </tr>\n",
       "    <tr>\n",
       "      <th>42</th>\n",
       "      <td>1:45</td>\n",
       "      <td>2.0</td>\n",
       "    </tr>\n",
       "    <tr>\n",
       "      <th>43</th>\n",
       "      <td>2:00</td>\n",
       "      <td>3.0</td>\n",
       "    </tr>\n",
       "    <tr>\n",
       "      <th>...</th>\n",
       "      <td>...</td>\n",
       "      <td>...</td>\n",
       "    </tr>\n",
       "    <tr>\n",
       "      <th>2824</th>\n",
       "      <td>1:15</td>\n",
       "      <td>2.0</td>\n",
       "    </tr>\n",
       "    <tr>\n",
       "      <th>2825</th>\n",
       "      <td>1:30</td>\n",
       "      <td>3.0</td>\n",
       "    </tr>\n",
       "    <tr>\n",
       "      <th>2826</th>\n",
       "      <td>1:45</td>\n",
       "      <td>3.0</td>\n",
       "    </tr>\n",
       "    <tr>\n",
       "      <th>2827</th>\n",
       "      <td>2:00</td>\n",
       "      <td>6.0</td>\n",
       "    </tr>\n",
       "    <tr>\n",
       "      <th>2834</th>\n",
       "      <td>3:45</td>\n",
       "      <td>31.0</td>\n",
       "    </tr>\n",
       "  </tbody>\n",
       "</table>\n",
       "<p>257 rows × 2 columns</p>\n",
       "</div>"
      ],
      "text/plain": [
       "       Time  Quantity\n",
       "31    23:00      23.0\n",
       "40     1:15       1.0\n",
       "41     1:30       1.0\n",
       "42     1:45       2.0\n",
       "43     2:00       3.0\n",
       "...     ...       ...\n",
       "2824   1:15       2.0\n",
       "2825   1:30       3.0\n",
       "2826   1:45       3.0\n",
       "2827   2:00       6.0\n",
       "2834   3:45      31.0\n",
       "\n",
       "[257 rows x 2 columns]"
      ]
     },
     "execution_count": 21,
     "metadata": {},
     "output_type": "execute_result"
    }
   ],
   "source": [
    "NanTimeDf = NanTimeDf.dropna(how='any')\n",
    "NanTimeDf"
   ]
  },
  {
   "cell_type": "markdown",
   "id": "002601ca-08f3-4f20-a539-407c0d514607",
   "metadata": {},
   "source": [
    "Составим датафрейм, который будет содержать периоды времени и средние значения для каждого из этого периода"
   ]
  },
  {
   "cell_type": "code",
   "execution_count": 22,
   "id": "4c9a4e63-6f69-462c-8354-3f6364163ceb",
   "metadata": {},
   "outputs": [
    {
     "data": {
      "text/html": [
       "<div>\n",
       "<style scoped>\n",
       "    .dataframe tbody tr th:only-of-type {\n",
       "        vertical-align: middle;\n",
       "    }\n",
       "\n",
       "    .dataframe tbody tr th {\n",
       "        vertical-align: top;\n",
       "    }\n",
       "\n",
       "    .dataframe thead th {\n",
       "        text-align: right;\n",
       "    }\n",
       "</style>\n",
       "<table border=\"1\" class=\"dataframe\">\n",
       "  <thead>\n",
       "    <tr style=\"text-align: right;\">\n",
       "      <th></th>\n",
       "      <th>Time</th>\n",
       "      <th>Quantity</th>\n",
       "    </tr>\n",
       "  </thead>\n",
       "  <tbody>\n",
       "    <tr>\n",
       "      <th>0</th>\n",
       "      <td>0:00</td>\n",
       "      <td>1</td>\n",
       "    </tr>\n",
       "    <tr>\n",
       "      <th>1</th>\n",
       "      <td>0:15</td>\n",
       "      <td>1</td>\n",
       "    </tr>\n",
       "    <tr>\n",
       "      <th>2</th>\n",
       "      <td>0:30</td>\n",
       "      <td>1</td>\n",
       "    </tr>\n",
       "    <tr>\n",
       "      <th>3</th>\n",
       "      <td>0:45</td>\n",
       "      <td>1</td>\n",
       "    </tr>\n",
       "    <tr>\n",
       "      <th>4</th>\n",
       "      <td>1:00</td>\n",
       "      <td>2</td>\n",
       "    </tr>\n",
       "    <tr>\n",
       "      <th>5</th>\n",
       "      <td>1:15</td>\n",
       "      <td>2</td>\n",
       "    </tr>\n",
       "    <tr>\n",
       "      <th>6</th>\n",
       "      <td>1:30</td>\n",
       "      <td>3</td>\n",
       "    </tr>\n",
       "    <tr>\n",
       "      <th>7</th>\n",
       "      <td>1:45</td>\n",
       "      <td>3</td>\n",
       "    </tr>\n",
       "    <tr>\n",
       "      <th>8</th>\n",
       "      <td>2:00</td>\n",
       "      <td>3</td>\n",
       "    </tr>\n",
       "    <tr>\n",
       "      <th>9</th>\n",
       "      <td>3:45</td>\n",
       "      <td>34</td>\n",
       "    </tr>\n",
       "    <tr>\n",
       "      <th>10</th>\n",
       "      <td>23:00</td>\n",
       "      <td>7</td>\n",
       "    </tr>\n",
       "    <tr>\n",
       "      <th>11</th>\n",
       "      <td>23:15</td>\n",
       "      <td>3</td>\n",
       "    </tr>\n",
       "    <tr>\n",
       "      <th>12</th>\n",
       "      <td>23:30</td>\n",
       "      <td>2</td>\n",
       "    </tr>\n",
       "    <tr>\n",
       "      <th>13</th>\n",
       "      <td>23:45</td>\n",
       "      <td>1</td>\n",
       "    </tr>\n",
       "  </tbody>\n",
       "</table>\n",
       "</div>"
      ],
      "text/plain": [
       "     Time  Quantity\n",
       "0    0:00         1\n",
       "1    0:15         1\n",
       "2    0:30         1\n",
       "3    0:45         1\n",
       "4    1:00         2\n",
       "5    1:15         2\n",
       "6    1:30         3\n",
       "7    1:45         3\n",
       "8    2:00         3\n",
       "9    3:45        34\n",
       "10  23:00         7\n",
       "11  23:15         3\n",
       "12  23:30         2\n",
       "13  23:45         1"
      ]
     },
     "execution_count": 22,
     "metadata": {},
     "output_type": "execute_result"
    }
   ],
   "source": [
    "uniqueNanTimeDict = {}\n",
    "for i in uniqueNanTime:\n",
    "    uniqueNanTimeDict[i] = int(NanTimeDf.loc[NanTimeDf.Time == i].Quantity.mean())\n",
    "uniqueNanTimeDict\n",
    "uniqueNanTimeDf = pd.DataFrame(list(uniqueNanTimeDict.items()),\n",
    "                   columns=['Time', 'Quantity'])\n",
    "uniqueNanTimeDf"
   ]
  },
  {
   "cell_type": "markdown",
   "id": "7eb6f9ad-5470-4664-9403-907c088ef1d8",
   "metadata": {},
   "source": [
    "Заполним пропуски исходя из средних значений которые мы получили"
   ]
  },
  {
   "cell_type": "code",
   "execution_count": 23,
   "id": "29949241-30e9-4a8d-bb43-f52808459450",
   "metadata": {},
   "outputs": [
    {
     "name": "stderr",
     "output_type": "stream",
     "text": [
      "C:\\Users\\fourteeNseveN\\AppData\\Local\\Temp\\ipykernel_1640\\2831755576.py:3: SettingWithCopyWarning: \n",
      "A value is trying to be set on a copy of a slice from a DataFrame\n",
      "\n",
      "See the caveats in the documentation: https://pandas.pydata.org/pandas-docs/stable/user_guide/indexing.html#returning-a-view-versus-a-copy\n",
      "  dfTime.Quantity[i] = uniqueNanTimeDf.Quantity.loc[uniqueNanTimeDf.Time == row.Time].values[0]\n"
     ]
    }
   ],
   "source": [
    "for i, row in dfTime.iterrows():\n",
    "    if np.isnan(row.Quantity):\n",
    "        dfTime.Quantity[i] = uniqueNanTimeDf.Quantity.loc[uniqueNanTimeDf.Time == row.Time].values[0]"
   ]
  },
  {
   "cell_type": "code",
   "execution_count": 24,
   "id": "f3696ddc-484e-445d-8d26-fbbe5bdf12d5",
   "metadata": {},
   "outputs": [
    {
     "data": {
      "text/html": [
       "<div>\n",
       "<style scoped>\n",
       "    .dataframe tbody tr th:only-of-type {\n",
       "        vertical-align: middle;\n",
       "    }\n",
       "\n",
       "    .dataframe tbody tr th {\n",
       "        vertical-align: top;\n",
       "    }\n",
       "\n",
       "    .dataframe thead th {\n",
       "        text-align: right;\n",
       "    }\n",
       "</style>\n",
       "<table border=\"1\" class=\"dataframe\">\n",
       "  <thead>\n",
       "    <tr style=\"text-align: right;\">\n",
       "      <th></th>\n",
       "      <th>timeHours</th>\n",
       "      <th>Quantity</th>\n",
       "    </tr>\n",
       "  </thead>\n",
       "  <tbody>\n",
       "    <tr>\n",
       "      <th>0</th>\n",
       "      <td>15:15</td>\n",
       "      <td>718.0</td>\n",
       "    </tr>\n",
       "    <tr>\n",
       "      <th>1</th>\n",
       "      <td>15:30</td>\n",
       "      <td>665.0</td>\n",
       "    </tr>\n",
       "    <tr>\n",
       "      <th>2</th>\n",
       "      <td>15:45</td>\n",
       "      <td>637.0</td>\n",
       "    </tr>\n",
       "    <tr>\n",
       "      <th>3</th>\n",
       "      <td>16:00</td>\n",
       "      <td>661.0</td>\n",
       "    </tr>\n",
       "    <tr>\n",
       "      <th>4</th>\n",
       "      <td>16:15</td>\n",
       "      <td>668.0</td>\n",
       "    </tr>\n",
       "    <tr>\n",
       "      <th>...</th>\n",
       "      <td>...</td>\n",
       "      <td>...</td>\n",
       "    </tr>\n",
       "    <tr>\n",
       "      <th>2876</th>\n",
       "      <td>14:15</td>\n",
       "      <td>793.0</td>\n",
       "    </tr>\n",
       "    <tr>\n",
       "      <th>2877</th>\n",
       "      <td>14:30</td>\n",
       "      <td>706.0</td>\n",
       "    </tr>\n",
       "    <tr>\n",
       "      <th>2878</th>\n",
       "      <td>14:45</td>\n",
       "      <td>556.0</td>\n",
       "    </tr>\n",
       "    <tr>\n",
       "      <th>2879</th>\n",
       "      <td>15:00</td>\n",
       "      <td>582.0</td>\n",
       "    </tr>\n",
       "    <tr>\n",
       "      <th>2880</th>\n",
       "      <td>15:15</td>\n",
       "      <td>771.0</td>\n",
       "    </tr>\n",
       "  </tbody>\n",
       "</table>\n",
       "<p>2881 rows × 2 columns</p>\n",
       "</div>"
      ],
      "text/plain": [
       "     timeHours  Quantity\n",
       "0        15:15     718.0\n",
       "1        15:30     665.0\n",
       "2        15:45     637.0\n",
       "3        16:00     661.0\n",
       "4        16:15     668.0\n",
       "...        ...       ...\n",
       "2876     14:15     793.0\n",
       "2877     14:30     706.0\n",
       "2878     14:45     556.0\n",
       "2879     15:00     582.0\n",
       "2880     15:15     771.0\n",
       "\n",
       "[2881 rows x 2 columns]"
      ]
     },
     "execution_count": 24,
     "metadata": {},
     "output_type": "execute_result"
    }
   ],
   "source": [
    "# dfTime.to_csv('file2.csv')\n",
    "dfTime.rename({'Time': 'timeHours'}, axis=1, inplace=True)\n",
    "dfTime"
   ]
  },
  {
   "cell_type": "code",
   "execution_count": 25,
   "id": "c4936c2e-596c-4403-9a3e-ba11dcb29edf",
   "metadata": {},
   "outputs": [
    {
     "data": {
      "text/plain": [
       "0       27.07.2022 15:15\n",
       "1       27.07.2022 15:30\n",
       "2       27.07.2022 15:45\n",
       "3       27.07.2022 16:00\n",
       "4       27.07.2022 16:15\n",
       "              ...       \n",
       "2876    26.08.2022 14:15\n",
       "2877    26.08.2022 14:30\n",
       "2878    26.08.2022 14:45\n",
       "2879    26.08.2022 15:00\n",
       "2880    26.08.2022 15:15\n",
       "Name: Time, Length: 2881, dtype: object"
      ]
     },
     "metadata": {},
     "output_type": "display_data"
    }
   ],
   "source": [
    "extracted_col = df.Time\n",
    "\n",
    "display(extracted_col)\n",
    "  \n",
    "dfTime = dfTime.join(extracted_col)"
   ]
  },
  {
   "cell_type": "markdown",
   "id": "287caccd-ea6e-46ae-8ed9-27d77398e6c7",
   "metadata": {},
   "source": [
    "Восстановим исходный датасет с датой "
   ]
  },
  {
   "cell_type": "code",
   "execution_count": 26,
   "id": "a43da948-af0d-4500-b20d-11cca2563b0c",
   "metadata": {},
   "outputs": [
    {
     "data": {
      "text/html": [
       "<div>\n",
       "<style scoped>\n",
       "    .dataframe tbody tr th:only-of-type {\n",
       "        vertical-align: middle;\n",
       "    }\n",
       "\n",
       "    .dataframe tbody tr th {\n",
       "        vertical-align: top;\n",
       "    }\n",
       "\n",
       "    .dataframe thead th {\n",
       "        text-align: right;\n",
       "    }\n",
       "</style>\n",
       "<table border=\"1\" class=\"dataframe\">\n",
       "  <thead>\n",
       "    <tr style=\"text-align: right;\">\n",
       "      <th></th>\n",
       "      <th>timeHours</th>\n",
       "      <th>Quantity</th>\n",
       "      <th>timeDaysHours</th>\n",
       "    </tr>\n",
       "  </thead>\n",
       "  <tbody>\n",
       "    <tr>\n",
       "      <th>0</th>\n",
       "      <td>15:15</td>\n",
       "      <td>718.0</td>\n",
       "      <td>27.07.2022 15:15</td>\n",
       "    </tr>\n",
       "    <tr>\n",
       "      <th>1</th>\n",
       "      <td>15:30</td>\n",
       "      <td>665.0</td>\n",
       "      <td>27.07.2022 15:30</td>\n",
       "    </tr>\n",
       "    <tr>\n",
       "      <th>2</th>\n",
       "      <td>15:45</td>\n",
       "      <td>637.0</td>\n",
       "      <td>27.07.2022 15:45</td>\n",
       "    </tr>\n",
       "    <tr>\n",
       "      <th>3</th>\n",
       "      <td>16:00</td>\n",
       "      <td>661.0</td>\n",
       "      <td>27.07.2022 16:00</td>\n",
       "    </tr>\n",
       "    <tr>\n",
       "      <th>4</th>\n",
       "      <td>16:15</td>\n",
       "      <td>668.0</td>\n",
       "      <td>27.07.2022 16:15</td>\n",
       "    </tr>\n",
       "    <tr>\n",
       "      <th>...</th>\n",
       "      <td>...</td>\n",
       "      <td>...</td>\n",
       "      <td>...</td>\n",
       "    </tr>\n",
       "    <tr>\n",
       "      <th>2876</th>\n",
       "      <td>14:15</td>\n",
       "      <td>793.0</td>\n",
       "      <td>26.08.2022 14:15</td>\n",
       "    </tr>\n",
       "    <tr>\n",
       "      <th>2877</th>\n",
       "      <td>14:30</td>\n",
       "      <td>706.0</td>\n",
       "      <td>26.08.2022 14:30</td>\n",
       "    </tr>\n",
       "    <tr>\n",
       "      <th>2878</th>\n",
       "      <td>14:45</td>\n",
       "      <td>556.0</td>\n",
       "      <td>26.08.2022 14:45</td>\n",
       "    </tr>\n",
       "    <tr>\n",
       "      <th>2879</th>\n",
       "      <td>15:00</td>\n",
       "      <td>582.0</td>\n",
       "      <td>26.08.2022 15:00</td>\n",
       "    </tr>\n",
       "    <tr>\n",
       "      <th>2880</th>\n",
       "      <td>15:15</td>\n",
       "      <td>771.0</td>\n",
       "      <td>26.08.2022 15:15</td>\n",
       "    </tr>\n",
       "  </tbody>\n",
       "</table>\n",
       "<p>2881 rows × 3 columns</p>\n",
       "</div>"
      ],
      "text/plain": [
       "     timeHours  Quantity     timeDaysHours\n",
       "0        15:15     718.0  27.07.2022 15:15\n",
       "1        15:30     665.0  27.07.2022 15:30\n",
       "2        15:45     637.0  27.07.2022 15:45\n",
       "3        16:00     661.0  27.07.2022 16:00\n",
       "4        16:15     668.0  27.07.2022 16:15\n",
       "...        ...       ...               ...\n",
       "2876     14:15     793.0  26.08.2022 14:15\n",
       "2877     14:30     706.0  26.08.2022 14:30\n",
       "2878     14:45     556.0  26.08.2022 14:45\n",
       "2879     15:00     582.0  26.08.2022 15:00\n",
       "2880     15:15     771.0  26.08.2022 15:15\n",
       "\n",
       "[2881 rows x 3 columns]"
      ]
     },
     "execution_count": 26,
     "metadata": {},
     "output_type": "execute_result"
    }
   ],
   "source": [
    "dfTime.rename({'Time': 'timeDaysHours'}, axis=1, inplace=True)\n",
    "dfTime"
   ]
  },
  {
   "cell_type": "markdown",
   "id": "628fb6b5-9eb3-4169-916c-76dfa7dd2962",
   "metadata": {},
   "source": [
    "Разделим наши данные на обучающую, валидную и тестовые выборки"
   ]
  },
  {
   "cell_type": "code",
   "execution_count": 27,
   "id": "02ccedb6-3633-4590-ba8a-e7449049f4d7",
   "metadata": {},
   "outputs": [],
   "source": [
    "trainData = dfTime.iloc[:1728]# 60% данных для обучения\n",
    "validData = dfTime.iloc[1728:2304]# 20% данных для валидации\n",
    "testData  = dfTime.iloc[2304:2881]# 20% данных для теста"
   ]
  },
  {
   "cell_type": "code",
   "execution_count": 28,
   "id": "18479e94-16ae-401e-81c8-97ccd3fc64e7",
   "metadata": {},
   "outputs": [],
   "source": [
    "def timeToValue(time):\n",
    "    var = time.split(':')\n",
    "    var = int(var[0])*60+int(var[1])\n",
    "    return var"
   ]
  },
  {
   "cell_type": "markdown",
   "id": "9801fee9-f828-4642-b3e6-a23ae9ccbc9e",
   "metadata": {},
   "source": [
    "## Переведем время в числовые значения для использования алгоритмов машинного обучения"
   ]
  },
  {
   "cell_type": "code",
   "execution_count": 29,
   "id": "b2a58bc7-a781-4069-9b6d-7bbc54c9e35c",
   "metadata": {},
   "outputs": [
    {
     "name": "stderr",
     "output_type": "stream",
     "text": [
      "C:\\Users\\fourteeNseveN\\AppData\\Local\\Temp\\ipykernel_1640\\1861490455.py:1: SettingWithCopyWarning: \n",
      "A value is trying to be set on a copy of a slice from a DataFrame.\n",
      "Try using .loc[row_indexer,col_indexer] = value instead\n",
      "\n",
      "See the caveats in the documentation: https://pandas.pydata.org/pandas-docs/stable/user_guide/indexing.html#returning-a-view-versus-a-copy\n",
      "  trainData['valueTime'] = [timeToValue(i) for i in trainData.timeHours]\n"
     ]
    }
   ],
   "source": [
    "trainData['valueTime'] = [timeToValue(i) for i in trainData.timeHours]"
   ]
  },
  {
   "cell_type": "code",
   "execution_count": null,
   "id": "5cffdfb8-1f3d-4e18-9a0c-e5bfc0be316a",
   "metadata": {},
   "outputs": [],
   "source": []
  },
  {
   "cell_type": "markdown",
   "id": "77e8ebd5-42ea-40c0-b965-a2aae1fb3317",
   "metadata": {},
   "source": [
    " ## Линейная регрессия "
   ]
  },
  {
   "cell_type": "code",
   "execution_count": 30,
   "id": "f47d1061-7d41-4a97-90c2-f18b828b563d",
   "metadata": {},
   "outputs": [],
   "source": [
    "X = pd.DataFrame(trainData.drop(['Quantity','timeHours', 'timeDaysHours' ], axis=1))\n",
    "y = pd.DataFrame(trainData['Quantity'])\n"
   ]
  },
  {
   "cell_type": "code",
   "execution_count": 31,
   "id": "7d508bdf-1cee-44cc-915f-9108d4a628e0",
   "metadata": {},
   "outputs": [],
   "source": [
    "reg = LinearRegression().fit(X, y)"
   ]
  },
  {
   "cell_type": "code",
   "execution_count": 32,
   "id": "14a477bc-66cd-4e79-a748-602a144434ac",
   "metadata": {},
   "outputs": [
    {
     "data": {
      "text/plain": [
       "1395"
      ]
     },
     "execution_count": 32,
     "metadata": {},
     "output_type": "execute_result"
    }
   ],
   "source": [
    "predictDate = timeToValue('23:15')\n",
    "predictDate"
   ]
  },
  {
   "cell_type": "code",
   "execution_count": 33,
   "id": "6cd27735-c198-44a3-9d4d-4441c22fa6a4",
   "metadata": {},
   "outputs": [
    {
     "name": "stderr",
     "output_type": "stream",
     "text": [
      "m:\\Anaconda\\lib\\site-packages\\sklearn\\base.py:450: UserWarning: X does not have valid feature names, but LinearRegression was fitted with feature names\n",
      "  warnings.warn(\n"
     ]
    },
    {
     "data": {
      "text/plain": [
       "array([[555.58220356]])"
      ]
     },
     "execution_count": 33,
     "metadata": {},
     "output_type": "execute_result"
    }
   ],
   "source": [
    "reg.predict([[predictDate]])"
   ]
  },
  {
   "cell_type": "markdown",
   "id": "4dba5d06-f273-480d-b1aa-8abf4302e106",
   "metadata": {},
   "source": [
    "С помощью линейной регрессии не удалось получить доставерные значения"
   ]
  },
  {
   "cell_type": "markdown",
   "id": "01fe1968-f066-42a7-aea5-4934c3866e4d",
   "metadata": {},
   "source": [
    "## KNN"
   ]
  },
  {
   "cell_type": "code",
   "execution_count": 34,
   "id": "fa2f2083-ebca-4d01-a5cf-c84c6218dd7f",
   "metadata": {},
   "outputs": [
    {
     "data": {
      "text/plain": [
       "KNeighborsClassifier()"
      ]
     },
     "execution_count": 34,
     "metadata": {},
     "output_type": "execute_result"
    }
   ],
   "source": [
    "neigh = KNeighborsClassifier(n_neighbors=5)\n",
    "neigh.fit(X, y.values.ravel())"
   ]
  },
  {
   "cell_type": "code",
   "execution_count": 35,
   "id": "6a064691-6f78-471f-b548-9fb751c1e34d",
   "metadata": {},
   "outputs": [
    {
     "data": {
      "text/plain": [
       "1395"
      ]
     },
     "execution_count": 35,
     "metadata": {},
     "output_type": "execute_result"
    }
   ],
   "source": [
    "predictDate = timeToValue('23:15')\n",
    "predictDate"
   ]
  },
  {
   "cell_type": "code",
   "execution_count": 36,
   "id": "15c6a170-bc90-43a0-9075-a4f720da9626",
   "metadata": {},
   "outputs": [
    {
     "name": "stderr",
     "output_type": "stream",
     "text": [
      "m:\\Anaconda\\lib\\site-packages\\sklearn\\base.py:450: UserWarning: X does not have valid feature names, but KNeighborsClassifier was fitted with feature names\n",
      "  warnings.warn(\n"
     ]
    },
    {
     "data": {
      "text/plain": [
       "array([3.])"
      ]
     },
     "execution_count": 36,
     "metadata": {},
     "output_type": "execute_result"
    }
   ],
   "source": [
    "neigh.predict([[predictDate]])"
   ]
  },
  {
   "cell_type": "code",
   "execution_count": 37,
   "id": "ad634b52-a319-4916-964e-7d542f7a2c81",
   "metadata": {},
   "outputs": [
    {
     "data": {
      "text/plain": [
       "975"
      ]
     },
     "execution_count": 37,
     "metadata": {},
     "output_type": "execute_result"
    }
   ],
   "source": [
    "predictDate = timeToValue('16:15')\n",
    "predictDate"
   ]
  },
  {
   "cell_type": "code",
   "execution_count": 38,
   "id": "a81a6be0-8c64-453a-b0f8-90e07630bea6",
   "metadata": {},
   "outputs": [
    {
     "name": "stderr",
     "output_type": "stream",
     "text": [
      "m:\\Anaconda\\lib\\site-packages\\sklearn\\base.py:450: UserWarning: X does not have valid feature names, but KNeighborsClassifier was fitted with feature names\n",
      "  warnings.warn(\n"
     ]
    },
    {
     "data": {
      "text/plain": [
       "array([585.])"
      ]
     },
     "execution_count": 38,
     "metadata": {},
     "output_type": "execute_result"
    }
   ],
   "source": [
    "neigh.predict([[predictDate]])"
   ]
  },
  {
   "cell_type": "markdown",
   "id": "6846f735-90a9-475e-b07b-f04ec913d30b",
   "metadata": {},
   "source": [
    " KNN способно предсказать значения для пропущенных интервалов"
   ]
  },
  {
   "cell_type": "markdown",
   "id": "ac85b4bc-c2f7-4258-9cf6-9df75787712a",
   "metadata": {},
   "source": [
    "## Деревья решений так же дали положительный результат"
   ]
  },
  {
   "cell_type": "code",
   "execution_count": 39,
   "id": "7373cb19-824a-4c29-993d-ccbb47b22653",
   "metadata": {},
   "outputs": [],
   "source": [
    "clf = tree.DecisionTreeClassifier()\n",
    "clf = clf.fit(X, y)"
   ]
  },
  {
   "cell_type": "code",
   "execution_count": 40,
   "id": "03d98f3c-62e0-44a3-8432-1ce24b7025ba",
   "metadata": {},
   "outputs": [
    {
     "name": "stderr",
     "output_type": "stream",
     "text": [
      "m:\\Anaconda\\lib\\site-packages\\sklearn\\base.py:450: UserWarning: X does not have valid feature names, but DecisionTreeClassifier was fitted with feature names\n",
      "  warnings.warn(\n"
     ]
    },
    {
     "data": {
      "text/plain": [
       "array([676.])"
      ]
     },
     "execution_count": 40,
     "metadata": {},
     "output_type": "execute_result"
    }
   ],
   "source": [
    "clf.predict([[predictDate]])"
   ]
  },
  {
   "cell_type": "code",
   "execution_count": 41,
   "id": "41fc63d9-eccb-4734-96a2-4c972a5d1e08",
   "metadata": {},
   "outputs": [
    {
     "data": {
      "text/plain": [
       "1395"
      ]
     },
     "execution_count": 41,
     "metadata": {},
     "output_type": "execute_result"
    }
   ],
   "source": [
    "predictDate = timeToValue('23:15')\n",
    "predictDate"
   ]
  },
  {
   "cell_type": "code",
   "execution_count": 42,
   "id": "1eac7b84-8d69-4bcf-a57c-c442c8a74409",
   "metadata": {},
   "outputs": [
    {
     "name": "stderr",
     "output_type": "stream",
     "text": [
      "m:\\Anaconda\\lib\\site-packages\\sklearn\\base.py:450: UserWarning: X does not have valid feature names, but DecisionTreeClassifier was fitted with feature names\n",
      "  warnings.warn(\n"
     ]
    },
    {
     "data": {
      "text/plain": [
       "array([2.])"
      ]
     },
     "execution_count": 42,
     "metadata": {},
     "output_type": "execute_result"
    }
   ],
   "source": [
    "clf.predict([[predictDate]])"
   ]
  },
  {
   "cell_type": "markdown",
   "id": "141071d9-821c-4ffa-a1c2-7a658e9d64b0",
   "metadata": {},
   "source": [
    "# Деревья решений дали более правдоподобное предсказания по сравнению с KNN, и являются рекомендованными для использования"
   ]
  },
  {
   "cell_type": "code",
   "execution_count": 43,
   "id": "5a05e216",
   "metadata": {},
   "outputs": [
    {
     "data": {
      "text/plain": [
       "975"
      ]
     },
     "execution_count": 43,
     "metadata": {},
     "output_type": "execute_result"
    }
   ],
   "source": [
    "predictDate = timeToValue('16:15')\n",
    "predictDate"
   ]
  },
  {
   "cell_type": "code",
   "execution_count": 44,
   "id": "96ac1fcc",
   "metadata": {},
   "outputs": [
    {
     "name": "stderr",
     "output_type": "stream",
     "text": [
      "m:\\Anaconda\\lib\\site-packages\\sklearn\\base.py:450: UserWarning: X does not have valid feature names, but DecisionTreeClassifier was fitted with feature names\n",
      "  warnings.warn(\n"
     ]
    },
    {
     "data": {
      "text/plain": [
       "array([676.])"
      ]
     },
     "execution_count": 44,
     "metadata": {},
     "output_type": "execute_result"
    }
   ],
   "source": [
    "clf.predict([[predictDate]])"
   ]
  },
  {
   "cell_type": "code",
   "execution_count": null,
   "id": "2e536c35",
   "metadata": {},
   "outputs": [],
   "source": []
  }
 ],
 "metadata": {
  "kernelspec": {
   "display_name": "Python 3.8.10 ('base')",
   "language": "python",
   "name": "python3"
  },
  "language_info": {
   "codemirror_mode": {
    "name": "ipython",
    "version": 3
   },
   "file_extension": ".py",
   "mimetype": "text/x-python",
   "name": "python",
   "nbconvert_exporter": "python",
   "pygments_lexer": "ipython3",
   "version": "3.8.10"
  },
  "vscode": {
   "interpreter": {
    "hash": "5fa7ff38c23c1f294768a66a1b3f13d092e37c4f40f8d64d3753bb81a15c2f29"
   }
  }
 },
 "nbformat": 4,
 "nbformat_minor": 5
}
